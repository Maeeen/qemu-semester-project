{
 "cells": [
  {
   "cell_type": "code",
   "execution_count": 2,
   "metadata": {},
   "outputs": [],
   "source": [
    "# reload imports when code changes\n",
    "%load_ext autoreload\n",
    "QEMU_BIN = \"../../qemu/build/qemu-x86_64\"\n",
    "QEMU_PATCHED_BIN = \"./qemu/build/qemu-x86_64\"\n",
    "\n",
    "from assemble import assemble\n",
    "from utils import exec_cmd\n",
    "import json"
   ]
  },
  {
   "cell_type": "code",
   "execution_count": 3,
   "metadata": {},
   "outputs": [],
   "source": [
    "def get_qemu_cmd(ex):\n",
    "    return QEMU_BIN + \" -plugin ./inscount.so \" + ex\n",
    "\n",
    "def get_qemu_cmd_patched(ex):\n",
    "    return QEMU_PATCHED_BIN + \" \" + ex\n",
    "\n",
    "def bind_eff(cmd):\n",
    "    eff_cores = exec_cmd(\"cat\", [\"/sys/devices/cpu_core/cpus\"])\n",
    "    if eff_cores.returncode != 0:\n",
    "        print(\"Warning: I only have Intel computers so I don't know how to get the effective cores on your system\")\n",
    "        return cmd\n",
    "    return \"taskset -c \" + eff_cores.stdout.strip() + \" \" + cmd\n",
    "\n",
    "\n",
    "def run(cmd_func, nbNops = 100, nbRuns = 1000):\n",
    "    ex = assemble(\"nop\\n\" * nbNops, \"test\")\n",
    "    cmd = cmd_func(ex)\n",
    "    cmd = \"perf stat -j -e instructions,cycles,task-clock -r \" + str(nbRuns) + \" \" + cmd\n",
    "    cmd = bind_eff(cmd)\n",
    "    print(cmd)\n",
    "    cmd = cmd.split(\" \")\n",
    "    res = exec_cmd(cmd[0], cmd[1:])\n",
    "    if res.returncode != 0:\n",
    "        print(\"Error: \" + res.stderr)\n",
    "        return\n",
    "    data = []\n",
    "    for line in res.stderr.split(\"\\n\"):\n",
    "        if len(line) == 0:\n",
    "            continue\n",
    "        data.append(json.loads(line))\n",
    "    return (data, res.stdout, res.stderr)"
   ]
  },
  {
   "cell_type": "code",
   "execution_count": 4,
   "metadata": {},
   "outputs": [],
   "source": [
    "def run_save(name, cmd_func, nbNops = 100, nbRuns = 1000):\n",
    "    data, stdout, stderr = run(cmd_func, nbNops, nbRuns)\n",
    "    with open(name + \".json\", \"w\") as f:\n",
    "        for d in data:\n",
    "            f.write(json.dumps(d) + \"\\n\")"
   ]
  },
  {
   "cell_type": "code",
   "execution_count": 6,
   "metadata": {},
   "outputs": [
    {
     "name": "stdout",
     "output_type": "stream",
     "text": [
      "taskset -c 0-11 perf stat -j -e instructions,cycles,task-clock -r 5000 ../../qemu/build/qemu-x86_64 -plugin ./inscount.so test.out\n",
      "taskset -c 0-11 perf stat -j -e instructions,cycles,task-clock -r 5000 ./qemu/build/qemu-x86_64 test.out\n",
      "taskset -c 0-11 perf stat -j -e instructions,cycles,task-clock -r 5000 ../../qemu/build/qemu-x86_64 -plugin ./inscount.so test.out\n",
      "taskset -c 0-11 perf stat -j -e instructions,cycles,task-clock -r 5000 ./qemu/build/qemu-x86_64 test.out\n",
      "taskset -c 0-11 perf stat -j -e instructions,cycles,task-clock -r 5000 ../../qemu/build/qemu-x86_64 -plugin ./inscount.so test.out\n",
      "taskset -c 0-11 perf stat -j -e instructions,cycles,task-clock -r 5000 ./qemu/build/qemu-x86_64 test.out\n",
      "taskset -c 0-11 perf stat -j -e instructions,cycles,task-clock -r 5000 ../../qemu/build/qemu-x86_64 -plugin ./inscount.so test.out\n",
      "taskset -c 0-11 perf stat -j -e instructions,cycles,task-clock -r 5000 ./qemu/build/qemu-x86_64 test.out\n",
      "taskset -c 0-11 perf stat -j -e instructions,cycles,task-clock -r 5000 ../../qemu/build/qemu-x86_64 -plugin ./inscount.so test.out\n",
      "taskset -c 0-11 perf stat -j -e instructions,cycles,task-clock -r 5000 ./qemu/build/qemu-x86_64 test.out\n",
      "taskset -c 0-11 perf stat -j -e instructions,cycles,task-clock -r 5000 ../../qemu/build/qemu-x86_64 -plugin ./inscount.so test.out\n",
      "taskset -c 0-11 perf stat -j -e instructions,cycles,task-clock -r 5000 ./qemu/build/qemu-x86_64 test.out\n",
      "taskset -c 0-11 perf stat -j -e instructions,cycles,task-clock -r 5000 ../../qemu/build/qemu-x86_64 -plugin ./inscount.so test.out\n",
      "taskset -c 0-11 perf stat -j -e instructions,cycles,task-clock -r 5000 ./qemu/build/qemu-x86_64 test.out\n",
      "taskset -c 0-11 perf stat -j -e instructions,cycles,task-clock -r 5000 ../../qemu/build/qemu-x86_64 -plugin ./inscount.so test.out\n",
      "taskset -c 0-11 perf stat -j -e instructions,cycles,task-clock -r 5000 ./qemu/build/qemu-x86_64 test.out\n",
      "taskset -c 0-11 perf stat -j -e instructions,cycles,task-clock -r 5000 ../../qemu/build/qemu-x86_64 -plugin ./inscount.so test.out\n",
      "taskset -c 0-11 perf stat -j -e instructions,cycles,task-clock -r 5000 ./qemu/build/qemu-x86_64 test.out\n",
      "taskset -c 0-11 perf stat -j -e instructions,cycles,task-clock -r 5000 ../../qemu/build/qemu-x86_64 -plugin ./inscount.so test.out\n",
      "taskset -c 0-11 perf stat -j -e instructions,cycles,task-clock -r 5000 ./qemu/build/qemu-x86_64 test.out\n",
      "taskset -c 0-11 perf stat -j -e instructions,cycles,task-clock -r 5000 ../../qemu/build/qemu-x86_64 -plugin ./inscount.so test.out\n",
      "taskset -c 0-11 perf stat -j -e instructions,cycles,task-clock -r 5000 ./qemu/build/qemu-x86_64 test.out\n"
     ]
    }
   ],
   "source": [
    "for i in range(0, 10001, 1000):\n",
    "    run_save(\"qemu_\" + str(i), get_qemu_cmd, i, 5000)\n",
    "    run_save(\"qemu_patched_\" + str(i), get_qemu_cmd_patched, i, 5000)"
   ]
  },
  {
   "cell_type": "code",
   "execution_count": 23,
   "metadata": {},
   "outputs": [],
   "source": [
    "def get_qemu_cmd_tblog(ex):\n",
    "    return QEMU_BIN + \" -plugin ./tblog.so \" + ex\n",
    "\n",
    "# Save also tb nb and sizes\n",
    "def run_tblog(nbNops = 100):\n",
    "    ex = assemble(\"nop\\n\" * nbNops, \"test\")\n",
    "    cmd = get_qemu_cmd_tblog(ex)\n",
    "    cmd = cmd.split(\" \")\n",
    "    res = exec_cmd(cmd[0], cmd[1:])\n",
    "    if res.returncode != 0:\n",
    "        print(\"Error: \" + res.stderr)\n",
    "        return\n",
    "    data = []\n",
    "    print(res)\n",
    "    for line in res.stdout.split(\"\\n\"):\n",
    "        if len(line) == 0:\n",
    "            continue\n",
    "        data.append(json.loads(line))\n",
    "    return (data, res.stdout, res.stderr)"
   ]
  },
  {
   "cell_type": "code",
   "execution_count": 24,
   "metadata": {},
   "outputs": [
    {
     "name": "stdout",
     "output_type": "stream",
     "text": [
      "CompletedProcess(args=['../../qemu/build/qemu-x86_64', '-plugin', './tblog.so', 'test.out'], returncode=0, stdout='[{\"type\": \"trans\", \"n_insn\": 3},{\"type\": \"exec\", \"n_insn\": 3},{}]\\n', stderr='')\n",
      "CompletedProcess(args=['../../qemu/build/qemu-x86_64', '-plugin', './tblog.so', 'test.out'], returncode=0, stdout='[{\"type\": \"trans\", \"n_insn\": 512},{\"type\": \"exec\", \"n_insn\": 512},{\"type\": \"trans\", \"n_insn\": 491},{\"type\": \"exec\", \"n_insn\": 491},{}]\\n', stderr='')\n",
      "CompletedProcess(args=['../../qemu/build/qemu-x86_64', '-plugin', './tblog.so', 'test.out'], returncode=0, stdout='[{\"type\": \"trans\", \"n_insn\": 512},{\"type\": \"exec\", \"n_insn\": 512},{\"type\": \"trans\", \"n_insn\": 512},{\"type\": \"exec\", \"n_insn\": 512},{\"type\": \"trans\", \"n_insn\": 512},{\"type\": \"exec\", \"n_insn\": 512},{\"type\": \"trans\", \"n_insn\": 467},{\"type\": \"exec\", \"n_insn\": 467},{}]\\n', stderr='')\n",
      "CompletedProcess(args=['../../qemu/build/qemu-x86_64', '-plugin', './tblog.so', 'test.out'], returncode=0, stdout='[{\"type\": \"trans\", \"n_insn\": 512},{\"type\": \"exec\", \"n_insn\": 512},{\"type\": \"trans\", \"n_insn\": 512},{\"type\": \"exec\", \"n_insn\": 512},{\"type\": \"trans\", \"n_insn\": 512},{\"type\": \"exec\", \"n_insn\": 512},{\"type\": \"trans\", \"n_insn\": 512},{\"type\": \"exec\", \"n_insn\": 512},{\"type\": \"trans\", \"n_insn\": 512},{\"type\": \"exec\", \"n_insn\": 512},{\"type\": \"trans\", \"n_insn\": 443},{\"type\": \"exec\", \"n_insn\": 443},{}]\\n', stderr='')\n",
      "CompletedProcess(args=['../../qemu/build/qemu-x86_64', '-plugin', './tblog.so', 'test.out'], returncode=0, stdout='[{\"type\": \"trans\", \"n_insn\": 512},{\"type\": \"exec\", \"n_insn\": 512},{\"type\": \"trans\", \"n_insn\": 512},{\"type\": \"exec\", \"n_insn\": 512},{\"type\": \"trans\", \"n_insn\": 512},{\"type\": \"exec\", \"n_insn\": 512},{\"type\": \"trans\", \"n_insn\": 512},{\"type\": \"exec\", \"n_insn\": 512},{\"type\": \"trans\", \"n_insn\": 512},{\"type\": \"exec\", \"n_insn\": 512},{\"type\": \"trans\", \"n_insn\": 512},{\"type\": \"exec\", \"n_insn\": 512},{\"type\": \"trans\", \"n_insn\": 512},{\"type\": \"exec\", \"n_insn\": 512},{\"type\": \"trans\", \"n_insn\": 419},{\"type\": \"exec\", \"n_insn\": 419},{}]\\n', stderr='')\n",
      "CompletedProcess(args=['../../qemu/build/qemu-x86_64', '-plugin', './tblog.so', 'test.out'], returncode=0, stdout='[{\"type\": \"trans\", \"n_insn\": 512},{\"type\": \"exec\", \"n_insn\": 512},{\"type\": \"trans\", \"n_insn\": 512},{\"type\": \"exec\", \"n_insn\": 512},{\"type\": \"trans\", \"n_insn\": 512},{\"type\": \"exec\", \"n_insn\": 512},{\"type\": \"trans\", \"n_insn\": 512},{\"type\": \"exec\", \"n_insn\": 512},{\"type\": \"trans\", \"n_insn\": 512},{\"type\": \"exec\", \"n_insn\": 512},{\"type\": \"trans\", \"n_insn\": 512},{\"type\": \"exec\", \"n_insn\": 512},{\"type\": \"trans\", \"n_insn\": 512},{\"type\": \"exec\", \"n_insn\": 512},{\"type\": \"trans\", \"n_insn\": 512},{\"type\": \"exec\", \"n_insn\": 512},{\"type\": \"trans\", \"n_insn\": 512},{\"type\": \"exec\", \"n_insn\": 512},{\"type\": \"trans\", \"n_insn\": 395},{\"type\": \"exec\", \"n_insn\": 395},{}]\\n', stderr='')\n",
      "CompletedProcess(args=['../../qemu/build/qemu-x86_64', '-plugin', './tblog.so', 'test.out'], returncode=0, stdout='[{\"type\": \"trans\", \"n_insn\": 512},{\"type\": \"exec\", \"n_insn\": 512},{\"type\": \"trans\", \"n_insn\": 512},{\"type\": \"exec\", \"n_insn\": 512},{\"type\": \"trans\", \"n_insn\": 512},{\"type\": \"exec\", \"n_insn\": 512},{\"type\": \"trans\", \"n_insn\": 512},{\"type\": \"exec\", \"n_insn\": 512},{\"type\": \"trans\", \"n_insn\": 512},{\"type\": \"exec\", \"n_insn\": 512},{\"type\": \"trans\", \"n_insn\": 512},{\"type\": \"exec\", \"n_insn\": 512},{\"type\": \"trans\", \"n_insn\": 512},{\"type\": \"exec\", \"n_insn\": 512},{\"type\": \"trans\", \"n_insn\": 512},{\"type\": \"exec\", \"n_insn\": 512},{\"type\": \"trans\", \"n_insn\": 512},{\"type\": \"exec\", \"n_insn\": 512},{\"type\": \"trans\", \"n_insn\": 512},{\"type\": \"exec\", \"n_insn\": 512},{\"type\": \"trans\", \"n_insn\": 512},{\"type\": \"exec\", \"n_insn\": 512},{\"type\": \"trans\", \"n_insn\": 371},{\"type\": \"exec\", \"n_insn\": 371},{}]\\n', stderr='')\n",
      "CompletedProcess(args=['../../qemu/build/qemu-x86_64', '-plugin', './tblog.so', 'test.out'], returncode=0, stdout='[{\"type\": \"trans\", \"n_insn\": 512},{\"type\": \"exec\", \"n_insn\": 512},{\"type\": \"trans\", \"n_insn\": 512},{\"type\": \"exec\", \"n_insn\": 512},{\"type\": \"trans\", \"n_insn\": 512},{\"type\": \"exec\", \"n_insn\": 512},{\"type\": \"trans\", \"n_insn\": 512},{\"type\": \"exec\", \"n_insn\": 512},{\"type\": \"trans\", \"n_insn\": 512},{\"type\": \"exec\", \"n_insn\": 512},{\"type\": \"trans\", \"n_insn\": 512},{\"type\": \"exec\", \"n_insn\": 512},{\"type\": \"trans\", \"n_insn\": 512},{\"type\": \"exec\", \"n_insn\": 512},{\"type\": \"trans\", \"n_insn\": 512},{\"type\": \"exec\", \"n_insn\": 512},{\"type\": \"trans\", \"n_insn\": 512},{\"type\": \"exec\", \"n_insn\": 512},{\"type\": \"trans\", \"n_insn\": 512},{\"type\": \"exec\", \"n_insn\": 512},{\"type\": \"trans\", \"n_insn\": 512},{\"type\": \"exec\", \"n_insn\": 512},{\"type\": \"trans\", \"n_insn\": 512},{\"type\": \"exec\", \"n_insn\": 512},{\"type\": \"trans\", \"n_insn\": 512},{\"type\": \"exec\", \"n_insn\": 512},{\"type\": \"trans\", \"n_insn\": 347},{\"type\": \"exec\", \"n_insn\": 347},{}]\\n', stderr='')\n",
      "CompletedProcess(args=['../../qemu/build/qemu-x86_64', '-plugin', './tblog.so', 'test.out'], returncode=0, stdout='[{\"type\": \"trans\", \"n_insn\": 512},{\"type\": \"exec\", \"n_insn\": 512},{\"type\": \"trans\", \"n_insn\": 512},{\"type\": \"exec\", \"n_insn\": 512},{\"type\": \"trans\", \"n_insn\": 512},{\"type\": \"exec\", \"n_insn\": 512},{\"type\": \"trans\", \"n_insn\": 512},{\"type\": \"exec\", \"n_insn\": 512},{\"type\": \"trans\", \"n_insn\": 512},{\"type\": \"exec\", \"n_insn\": 512},{\"type\": \"trans\", \"n_insn\": 512},{\"type\": \"exec\", \"n_insn\": 512},{\"type\": \"trans\", \"n_insn\": 512},{\"type\": \"exec\", \"n_insn\": 512},{\"type\": \"trans\", \"n_insn\": 512},{\"type\": \"exec\", \"n_insn\": 512},{\"type\": \"trans\", \"n_insn\": 512},{\"type\": \"exec\", \"n_insn\": 512},{\"type\": \"trans\", \"n_insn\": 512},{\"type\": \"exec\", \"n_insn\": 512},{\"type\": \"trans\", \"n_insn\": 512},{\"type\": \"exec\", \"n_insn\": 512},{\"type\": \"trans\", \"n_insn\": 512},{\"type\": \"exec\", \"n_insn\": 512},{\"type\": \"trans\", \"n_insn\": 512},{\"type\": \"exec\", \"n_insn\": 512},{\"type\": \"trans\", \"n_insn\": 512},{\"type\": \"exec\", \"n_insn\": 512},{\"type\": \"trans\", \"n_insn\": 512},{\"type\": \"exec\", \"n_insn\": 512},{\"type\": \"trans\", \"n_insn\": 323},{\"type\": \"exec\", \"n_insn\": 323},{}]\\n', stderr='')\n",
      "CompletedProcess(args=['../../qemu/build/qemu-x86_64', '-plugin', './tblog.so', 'test.out'], returncode=0, stdout='[{\"type\": \"trans\", \"n_insn\": 512},{\"type\": \"exec\", \"n_insn\": 512},{\"type\": \"trans\", \"n_insn\": 512},{\"type\": \"exec\", \"n_insn\": 512},{\"type\": \"trans\", \"n_insn\": 512},{\"type\": \"exec\", \"n_insn\": 512},{\"type\": \"trans\", \"n_insn\": 512},{\"type\": \"exec\", \"n_insn\": 512},{\"type\": \"trans\", \"n_insn\": 512},{\"type\": \"exec\", \"n_insn\": 512},{\"type\": \"trans\", \"n_insn\": 512},{\"type\": \"exec\", \"n_insn\": 512},{\"type\": \"trans\", \"n_insn\": 512},{\"type\": \"exec\", \"n_insn\": 512},{\"type\": \"trans\", \"n_insn\": 512},{\"type\": \"exec\", \"n_insn\": 512},{\"type\": \"trans\", \"n_insn\": 512},{\"type\": \"exec\", \"n_insn\": 512},{\"type\": \"trans\", \"n_insn\": 512},{\"type\": \"exec\", \"n_insn\": 512},{\"type\": \"trans\", \"n_insn\": 512},{\"type\": \"exec\", \"n_insn\": 512},{\"type\": \"trans\", \"n_insn\": 512},{\"type\": \"exec\", \"n_insn\": 512},{\"type\": \"trans\", \"n_insn\": 512},{\"type\": \"exec\", \"n_insn\": 512},{\"type\": \"trans\", \"n_insn\": 512},{\"type\": \"exec\", \"n_insn\": 512},{\"type\": \"trans\", \"n_insn\": 512},{\"type\": \"exec\", \"n_insn\": 512},{\"type\": \"trans\", \"n_insn\": 512},{\"type\": \"exec\", \"n_insn\": 512},{\"type\": \"trans\", \"n_insn\": 512},{\"type\": \"exec\", \"n_insn\": 512},{\"type\": \"trans\", \"n_insn\": 299},{\"type\": \"exec\", \"n_insn\": 299},{}]\\n', stderr='')\n",
      "CompletedProcess(args=['../../qemu/build/qemu-x86_64', '-plugin', './tblog.so', 'test.out'], returncode=0, stdout='[{\"type\": \"trans\", \"n_insn\": 512},{\"type\": \"exec\", \"n_insn\": 512},{\"type\": \"trans\", \"n_insn\": 512},{\"type\": \"exec\", \"n_insn\": 512},{\"type\": \"trans\", \"n_insn\": 512},{\"type\": \"exec\", \"n_insn\": 512},{\"type\": \"trans\", \"n_insn\": 512},{\"type\": \"exec\", \"n_insn\": 512},{\"type\": \"trans\", \"n_insn\": 512},{\"type\": \"exec\", \"n_insn\": 512},{\"type\": \"trans\", \"n_insn\": 512},{\"type\": \"exec\", \"n_insn\": 512},{\"type\": \"trans\", \"n_insn\": 512},{\"type\": \"exec\", \"n_insn\": 512},{\"type\": \"trans\", \"n_insn\": 512},{\"type\": \"exec\", \"n_insn\": 512},{\"type\": \"trans\", \"n_insn\": 512},{\"type\": \"exec\", \"n_insn\": 512},{\"type\": \"trans\", \"n_insn\": 512},{\"type\": \"exec\", \"n_insn\": 512},{\"type\": \"trans\", \"n_insn\": 512},{\"type\": \"exec\", \"n_insn\": 512},{\"type\": \"trans\", \"n_insn\": 512},{\"type\": \"exec\", \"n_insn\": 512},{\"type\": \"trans\", \"n_insn\": 512},{\"type\": \"exec\", \"n_insn\": 512},{\"type\": \"trans\", \"n_insn\": 512},{\"type\": \"exec\", \"n_insn\": 512},{\"type\": \"trans\", \"n_insn\": 512},{\"type\": \"exec\", \"n_insn\": 512},{\"type\": \"trans\", \"n_insn\": 512},{\"type\": \"exec\", \"n_insn\": 512},{\"type\": \"trans\", \"n_insn\": 512},{\"type\": \"exec\", \"n_insn\": 512},{\"type\": \"trans\", \"n_insn\": 512},{\"type\": \"exec\", \"n_insn\": 512},{\"type\": \"trans\", \"n_insn\": 512},{\"type\": \"exec\", \"n_insn\": 512},{\"type\": \"trans\", \"n_insn\": 275},{\"type\": \"exec\", \"n_insn\": 275},{}]\\n', stderr='')\n"
     ]
    }
   ],
   "source": [
    "def run_tblog_save(name, nbNops = 100):\n",
    "    data, stdout, stderr = run_tblog(nbNops)\n",
    "    with open(name + \".json\", \"w\") as f:\n",
    "        for d in data:\n",
    "            f.write(json.dumps(d) + \"\\n\")\n",
    "\n",
    "for i in range(0, 10001, 1000):\n",
    "    run_tblog_save(\"qemu_tblog_\" + str(i), i)"
   ]
  }
 ],
 "metadata": {
  "kernelspec": {
   "display_name": "qemu-semester-project-1iTxz2F1",
   "language": "python",
   "name": "python3"
  },
  "language_info": {
   "codemirror_mode": {
    "name": "ipython",
    "version": 3
   },
   "file_extension": ".py",
   "mimetype": "text/x-python",
   "name": "python",
   "nbconvert_exporter": "python",
   "pygments_lexer": "ipython3",
   "version": "3.12.7"
  }
 },
 "nbformat": 4,
 "nbformat_minor": 2
}
