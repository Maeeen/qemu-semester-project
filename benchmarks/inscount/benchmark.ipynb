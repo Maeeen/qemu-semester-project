{
 "cells": [
  {
   "cell_type": "code",
   "execution_count": 3,
   "metadata": {},
   "outputs": [
    {
     "name": "stdout",
     "output_type": "stream",
     "text": [
      "The autoreload extension is already loaded. To reload it, use:\n",
      "  %reload_ext autoreload\n"
     ]
    }
   ],
   "source": [
    "# reload imports when code changes\n",
    "%load_ext autoreload\n",
    "QEMU_BIN = \"../../qemu/build/qemu-x86_64\"\n",
    "QEMU_PATCHED_BIN = \"./qemu/build/qemu-x86_64\"\n",
    "\n",
    "from assemble import assemble\n",
    "from utils import exec_cmd\n",
    "import json"
   ]
  },
  {
   "cell_type": "code",
   "execution_count": 10,
   "metadata": {},
   "outputs": [
    {
     "name": "stdout",
     "output_type": "stream",
     "text": [
      "taskset -c 0-11 perf stat -j -e instructions,cycles,task-clock -r 10 ./qemu/build/qemu-x86_64 test.out\n",
      "([{'counter-value': '<not counted>', 'unit': '', 'event': 'cpu_atom/instructions:u/', 'variance': 0.0, 'event-runtime': 0, 'pcnt-running': 0.0, 'metric-value': '0.000000', 'metric-unit': ''}, {'counter-value': '8034791.000000', 'unit': '', 'event': 'cpu_core/instructions:u/', 'variance': 0.0, 'event-runtime': 2754102, 'pcnt-running': 100.0, 'metric-value': '0.000000', 'metric-unit': 'insn per cycle'}, {'counter-value': '<not counted>', 'unit': '', 'event': 'cpu_atom/cycles:u/', 'variance': 0.0, 'event-runtime': 0, 'pcnt-running': 0.0, 'metric-value': '0.000000', 'metric-unit': ''}, {'counter-value': '4737902.000000', 'unit': '', 'event': 'cpu_core/cycles:u/', 'variance': 1.55, 'event-runtime': 2754102, 'pcnt-running': 100.0, 'metric-value': '1.629958', 'metric-unit': 'GHz'}, {'counter-value': '2.906763', 'unit': 'msec', 'event': 'task-clock:u', 'variance': 2.17, 'event-runtime': 2754102, 'pcnt-running': 100.0, 'metric-value': '0.955291', 'metric-unit': 'CPUs utilized'}], '', '{\"counter-value\" : \"<not counted>\", \"unit\" : \"\", \"event\" : \"cpu_atom/instructions:u/\", \"variance\" : 0.00, \"event-runtime\" : 0, \"pcnt-running\" : 0.00, \"metric-value\" : \"0.000000\", \"metric-unit\" : \"\"}\\n{\"counter-value\" : \"8034791.000000\", \"unit\" : \"\", \"event\" : \"cpu_core/instructions:u/\", \"variance\" : 0.00, \"event-runtime\" : 2754102, \"pcnt-running\" : 100.00, \"metric-value\" : \"0.000000\", \"metric-unit\" : \"insn per cycle\"}\\n{\"counter-value\" : \"<not counted>\", \"unit\" : \"\", \"event\" : \"cpu_atom/cycles:u/\", \"variance\" : 0.00, \"event-runtime\" : 0, \"pcnt-running\" : 0.00, \"metric-value\" : \"0.000000\", \"metric-unit\" : \"\"}\\n{\"counter-value\" : \"4737902.000000\", \"unit\" : \"\", \"event\" : \"cpu_core/cycles:u/\", \"variance\" : 1.55, \"event-runtime\" : 2754102, \"pcnt-running\" : 100.00, \"metric-value\" : \"1.629958\", \"metric-unit\" : \"GHz\"}\\n{\"counter-value\" : \"2.906763\", \"unit\" : \"msec\", \"event\" : \"task-clock:u\", \"variance\" : 2.17, \"event-runtime\" : 2754102, \"pcnt-running\" : 100.00, \"metric-value\" : \"0.955291\", \"metric-unit\" : \"CPUs utilized\"}\\n')\n"
     ]
    }
   ],
   "source": [
    "def get_qemu_cmd(ex):\n",
    "    return QEMU_BIN + \" -plugin ./inscount.so \" + ex\n",
    "\n",
    "def get_qemu_cmd_patched(ex):\n",
    "    return QEMU_PATCHED_BIN + \" \" + ex\n",
    "\n",
    "def bind_eff(cmd):\n",
    "    eff_cores = exec_cmd(\"cat\", [\"/sys/devices/cpu_core/cpus\"])\n",
    "    if eff_cores.returncode != 0:\n",
    "        print(\"Warning: I only have Intel computers so I don't know how to get the effective cores on your system\")\n",
    "        return cmd\n",
    "    return \"taskset -c \" + eff_cores.stdout.strip() + \" \" + cmd\n",
    "\n",
    "\n",
    "def run(cmd_func, nbNops = 100, nbRuns = 1000):\n",
    "    ex = assemble(\"nop\\n\" * nbNops, \"test\")\n",
    "    cmd = cmd_func(ex)\n",
    "    cmd = \"perf stat -j -e instructions,cycles,task-clock -r \" + str(nbRuns) + \" \" + cmd\n",
    "    cmd = bind_eff(cmd)\n",
    "    print(cmd)\n",
    "    cmd = cmd.split(\" \")\n",
    "    res = exec_cmd(cmd[0], cmd[1:])\n",
    "    if res.returncode != 0:\n",
    "        print(\"Error: \" + res.stderr)\n",
    "        return\n",
    "    data = []\n",
    "    for line in res.stderr.split(\"\\n\"):\n",
    "        if len(line) == 0:\n",
    "            continue\n",
    "        data.append(json.loads(line))\n",
    "    return (data, res.stdout, res.stderr)"
   ]
  },
  {
   "cell_type": "code",
   "execution_count": 11,
   "metadata": {},
   "outputs": [],
   "source": [
    "def run_save(name, cmd_func, nbNops = 100, nbRuns = 1000):\n",
    "    data, stdout, stderr = run(cmd_func, nbNops, nbRuns)\n",
    "    with open(name + \".json\", \"w\") as f:\n",
    "        for d in data:\n",
    "            f.write(json.dumps(d) + \"\\n\")"
   ]
  },
  {
   "cell_type": "code",
   "execution_count": 12,
   "metadata": {},
   "outputs": [
    {
     "name": "stdout",
     "output_type": "stream",
     "text": [
      "taskset -c 0-11 perf stat -j -e instructions,cycles,task-clock -r 5000 ../../qemu/build/qemu-x86_64 -plugin ./inscount.so test.out\n",
      "taskset -c 0-11 perf stat -j -e instructions,cycles,task-clock -r 5000 ./qemu/build/qemu-x86_64 test.out\n",
      "taskset -c 0-11 perf stat -j -e instructions,cycles,task-clock -r 5000 ../../qemu/build/qemu-x86_64 -plugin ./inscount.so test.out\n",
      "taskset -c 0-11 perf stat -j -e instructions,cycles,task-clock -r 5000 ./qemu/build/qemu-x86_64 test.out\n",
      "taskset -c 0-11 perf stat -j -e instructions,cycles,task-clock -r 5000 ../../qemu/build/qemu-x86_64 -plugin ./inscount.so test.out\n",
      "taskset -c 0-11 perf stat -j -e instructions,cycles,task-clock -r 5000 ./qemu/build/qemu-x86_64 test.out\n",
      "taskset -c 0-11 perf stat -j -e instructions,cycles,task-clock -r 5000 ../../qemu/build/qemu-x86_64 -plugin ./inscount.so test.out\n",
      "taskset -c 0-11 perf stat -j -e instructions,cycles,task-clock -r 5000 ./qemu/build/qemu-x86_64 test.out\n",
      "taskset -c 0-11 perf stat -j -e instructions,cycles,task-clock -r 5000 ../../qemu/build/qemu-x86_64 -plugin ./inscount.so test.out\n",
      "taskset -c 0-11 perf stat -j -e instructions,cycles,task-clock -r 5000 ./qemu/build/qemu-x86_64 test.out\n",
      "taskset -c 0-11 perf stat -j -e instructions,cycles,task-clock -r 5000 ../../qemu/build/qemu-x86_64 -plugin ./inscount.so test.out\n",
      "taskset -c 0-11 perf stat -j -e instructions,cycles,task-clock -r 5000 ./qemu/build/qemu-x86_64 test.out\n",
      "taskset -c 0-11 perf stat -j -e instructions,cycles,task-clock -r 5000 ../../qemu/build/qemu-x86_64 -plugin ./inscount.so test.out\n",
      "taskset -c 0-11 perf stat -j -e instructions,cycles,task-clock -r 5000 ./qemu/build/qemu-x86_64 test.out\n",
      "taskset -c 0-11 perf stat -j -e instructions,cycles,task-clock -r 5000 ../../qemu/build/qemu-x86_64 -plugin ./inscount.so test.out\n",
      "taskset -c 0-11 perf stat -j -e instructions,cycles,task-clock -r 5000 ./qemu/build/qemu-x86_64 test.out\n",
      "taskset -c 0-11 perf stat -j -e instructions,cycles,task-clock -r 5000 ../../qemu/build/qemu-x86_64 -plugin ./inscount.so test.out\n",
      "taskset -c 0-11 perf stat -j -e instructions,cycles,task-clock -r 5000 ./qemu/build/qemu-x86_64 test.out\n",
      "taskset -c 0-11 perf stat -j -e instructions,cycles,task-clock -r 5000 ../../qemu/build/qemu-x86_64 -plugin ./inscount.so test.out\n",
      "taskset -c 0-11 perf stat -j -e instructions,cycles,task-clock -r 5000 ./qemu/build/qemu-x86_64 test.out\n"
     ]
    }
   ],
   "source": [
    "for i in range(0, 10000, 1000):\n",
    "    run_save(\"qemu_\" + str(i), get_qemu_cmd, i, 5000)\n",
    "    run_save(\"qemu_patched_\" + str(i), get_qemu_cmd_patched, i, 5000)"
   ]
  }
 ],
 "metadata": {
  "kernelspec": {
   "display_name": "qemu-semester-project-1iTxz2F1",
   "language": "python",
   "name": "python3"
  },
  "language_info": {
   "codemirror_mode": {
    "name": "ipython",
    "version": 3
   },
   "file_extension": ".py",
   "mimetype": "text/x-python",
   "name": "python",
   "nbconvert_exporter": "python",
   "pygments_lexer": "ipython3",
   "version": "3.12.7"
  }
 },
 "nbformat": 4,
 "nbformat_minor": 2
}
